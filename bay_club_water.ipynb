{
  "nbformat": 4,
  "nbformat_minor": 0,
  "metadata": {
    "colab": {
      "private_outputs": true,
      "provenance": [],
      "authorship_tag": "ABX9TyOcrsdZqfYKEfZbUU/LBklf",
      "include_colab_link": true
    },
    "kernelspec": {
      "name": "python3",
      "display_name": "Python 3"
    },
    "language_info": {
      "name": "python"
    }
  },
  "cells": [
    {
      "cell_type": "markdown",
      "metadata": {
        "id": "view-in-github",
        "colab_type": "text"
      },
      "source": [
        "<a href=\"https://colab.research.google.com/github/adrianyang2012/bay_club_water_predicter/blob/main/bay_club_water.ipynb\" target=\"_parent\"><img src=\"https://colab.research.google.com/assets/colab-badge.svg\" alt=\"Open In Colab\"/></a>"
      ]
    },
    {
      "cell_type": "code",
      "execution_count": null,
      "metadata": {
        "id": "GgZG8YEKl0YZ"
      },
      "outputs": [],
      "source": [
        "import matplotlib.pyplot as  plt\n",
        "import numpy as np\n",
        "from sklearn.linear_model import LinearRegression\n",
        "li = [166773,167908,169356,170575]\n",
        "n = len(li)\n",
        "model = LinearRegression().fit(np.arange(n).reshape(n,1), li)\n",
        "li2 = [int(model.predict([[x]])) for x in range(0,10)]\n",
        "print(li2)\n",
        "plt.title(\"predictions\")\n",
        "plt.scatter([x for x in range(0,4)],li)\n",
        "plt.plot([x for x in range(0,6)],li2[:6])\n",
        "plt.show()\n",
        "losses = []\n",
        "for i in range(0,len(li)):\n",
        "  losses.append(abs(li[i]-li2[i]))\n",
        "plt.title(f\"average loss {sum(losses)/len(losses)}\")\n",
        "plt.plot(losses)\n",
        "plt.show()"
      ]
    },
    {
      "cell_type": "code",
      "source": [
        "   "
      ],
      "metadata": {
        "id": "9D2th9v99N1_"
      },
      "execution_count": null,
      "outputs": []
    }
  ]
}