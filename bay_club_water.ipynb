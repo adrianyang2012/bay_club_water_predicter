{
  "nbformat": 4,
  "nbformat_minor": 0,
  "metadata": {
    "colab": {
      "private_outputs": true,
      "provenance": [],
      "authorship_tag": "ABX9TyOxj9iENv7CpWKrq/7/VKgT",
      "include_colab_link": true
    },
    "kernelspec": {
      "name": "python3",
      "display_name": "Python 3"
    },
    "language_info": {
      "name": "python"
    }
  },
  "cells": [
    {
      "cell_type": "markdown",
      "metadata": {
        "id": "view-in-github",
        "colab_type": "text"
      },
      "source": [
        "<a href=\"https://colab.research.google.com/github/adrianyang2012/bay_club_water_predicter/blob/main/bay_club_water.ipynb\" target=\"_parent\"><img src=\"https://colab.research.google.com/assets/colab-badge.svg\" alt=\"Open In Colab\"/></a>"
      ]
    },
    {
      "cell_type": "code",
      "execution_count": null,
      "metadata": {
        "id": "GgZG8YEKl0YZ"
      },
      "outputs": [],
      "source": [
        "import matplotlib.pyplot as  plt\n",
        "import numpy as np\n",
        "from sklearn.linear_model import LinearRegression\n",
        "li = [166773,167908,169356]\n",
        "n = len(li)\n",
        "model = LinearRegression().fit(np.arange(n).reshape(n,1), li)\n",
        "li2 = [int(model.predict([[x]])) for x in range(0,10)]\n",
        "print(li2)\n",
        "plt.scatter([x for x in range(0,3)],li)\n",
        "plt.plot([x for x in range(0,6)],li2[:6])"
      ]
    },
    {
      "cell_type": "code",
      "source": [
        "166773-166720"
      ],
      "metadata": {
        "id": "9D2th9v99N1_"
      },
      "execution_count": null,
      "outputs": []
    }
  ]
}